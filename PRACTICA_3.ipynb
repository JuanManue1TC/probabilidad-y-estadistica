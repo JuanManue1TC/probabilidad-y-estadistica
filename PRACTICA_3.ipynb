{
  "nbformat": 4,
  "nbformat_minor": 0,
  "metadata": {
    "colab": {
      "provenance": [],
      "authorship_tag": "ABX9TyMSYTNE7JQfmC1iAmlYGE6c",
      "include_colab_link": true
    },
    "kernelspec": {
      "name": "python3",
      "display_name": "Python 3"
    },
    "language_info": {
      "name": "python"
    }
  },
  "cells": [
    {
      "cell_type": "markdown",
      "metadata": {
        "id": "view-in-github",
        "colab_type": "text"
      },
      "source": [
        "<a href=\"https://colab.research.google.com/github/JuanManue1TC/probabilidad-y-estadistica/blob/main/PRACTICA_3.ipynb\" target=\"_parent\"><img src=\"https://colab.research.google.com/assets/colab-badge.svg\" alt=\"Open In Colab\"/></a>"
      ]
    },
    {
      "cell_type": "code",
      "source": [
        "import random\n",
        "import matplotlib.pyplot as plt\n",
        "from statistics import *"
      ],
      "metadata": {
        "id": "RjE2SDXPi1CC"
      },
      "execution_count": null,
      "outputs": []
    },
    {
      "cell_type": "code",
      "source": [
        "fabrica1 = []\n",
        "for i in range(100):\n",
        "  numero_aleatorio = round(random.uniform(50, 100), 2)\n",
        "  fabrica1.append(numero_aleatorio)\n",
        "print(fabrica1)"
      ],
      "metadata": {
        "colab": {
          "base_uri": "https://localhost:8080/"
        },
        "id": "RPmFVQHui1M0",
        "outputId": "f14cdf9d-7097-488e-c0eb-fdc8491ebe3d"
      },
      "execution_count": null,
      "outputs": [
        {
          "output_type": "stream",
          "name": "stdout",
          "text": [
            "[51.91, 56.07, 72.77, 63.15, 89.87, 89.93, 98.51, 93.47, 65.2, 77.06, 82.27, 89.11, 92.84, 91.53, 70.98, 74.88, 81.23, 57.91, 52.79, 79.73, 56.32, 74.05, 54.26, 78.64, 81.38, 84.33, 85.16, 62.77, 54.93, 65.18, 67.83, 55.55, 99.81, 74.51, 51.93, 58.45, 71.86, 91.27, 99.56, 60.06, 99.16, 73.99, 64.82, 52.75, 50.16, 78.17, 85.63, 53.88, 79.26, 61.55, 82.06, 51.06, 54.2, 93.67, 55.21, 55.42, 64.44, 64.19, 70.25, 82.81, 79.8, 97.46, 92.39, 51.31, 97.03, 90.97, 59.66, 86.79, 71.98, 91.42, 97.44, 55.33, 63.18, 89.09, 61.69, 77.13, 88.23, 54.2, 59.95, 51.93, 73.12, 94.94, 63.01, 96.28, 66.27, 60.77, 92.59, 53.71, 88.95, 63.59, 96.71, 93.48, 62.15, 53.82, 78.67, 67.88, 70.25, 50.04, 89.77, 59.78]\n"
          ]
        }
      ]
    },
    {
      "cell_type": "code",
      "source": [
        "fabrica2 = []\n",
        "for i in range(100):\n",
        "  numero_aleatorio = round(random.uniform(50, 100), 2)\n",
        "  fabrica2.append(numero_aleatorio)\n",
        "print(fabrica2)"
      ],
      "metadata": {
        "colab": {
          "base_uri": "https://localhost:8080/"
        },
        "id": "GMpaqMpJi863",
        "outputId": "997f3f0c-3406-4e17-82df-e2811d539060"
      },
      "execution_count": null,
      "outputs": [
        {
          "output_type": "stream",
          "name": "stdout",
          "text": [
            "[93.12, 84.29, 55.68, 66.79, 58.81, 54.39, 57.91, 76.71, 94.4, 77.83, 64.72, 69.45, 72.48, 76.66, 65.92, 70.84, 87.43, 58.26, 96.25, 79.16, 81.94, 83.43, 52.19, 91.03, 53.03, 87.28, 51.14, 96.87, 95.44, 62.14, 70.29, 55.15, 83.33, 78.25, 54.44, 83.74, 99.92, 69.52, 51.33, 96.54, 56.55, 83.89, 65.65, 70.94, 63.61, 74.51, 81.07, 78.89, 87.25, 53.73, 99.78, 50.66, 85.5, 79.89, 64.46, 80.04, 63.27, 82.45, 79.57, 70.42, 70.08, 51.66, 88.97, 73.82, 71.1, 87.02, 52.5, 84.14, 51.09, 72.38, 56.29, 89.46, 75.32, 62.62, 85.97, 69.13, 55.2, 88.87, 66.44, 91.43, 92.99, 74.72, 81.99, 83.52, 96.95, 76.17, 97.1, 87.44, 55.5, 57.61, 91.16, 80.34, 82.22, 81.45, 91.79, 74.82, 72.93, 76.25, 56.61, 60.56]\n"
          ]
        }
      ]
    },
    {
      "cell_type": "code",
      "source": [
        "maximo1= max(fabrica1)\n",
        "minimo1 = min(fabrica1)\n",
        "rango1 = maximo1 - minimo1\n",
        "media1 = mean(fabrica1)\n",
        "mediana1 = median(fabrica1)\n",
        "moda1 = mode(fabrica1)\n",
        "\n",
        "print(\"Estadistica descriptiva de la Fabrica 1 \\n\", \"Media =\", media1, \"\\n Mediana =\", mediana1, \"\\n Moda\", moda1, \"\\n Maximo = \", maximo1, \"\\n Minimo =\", minimo1, \"\\n Rango\", rango1)"
      ],
      "metadata": {
        "colab": {
          "base_uri": "https://localhost:8080/"
        },
        "id": "yCa53uMHjCi5",
        "outputId": "92d7446a-b854-47e7-ef90-0b4aaf2af35d"
      },
      "execution_count": null,
      "outputs": [
        {
          "output_type": "stream",
          "name": "stdout",
          "text": [
            "Estadistica descriptiva de la Fabrica 1 \n",
            " Media = 73.245 \n",
            " Mediana = 72.375 \n",
            " Moda 51.93 \n",
            " Maximo =  99.81 \n",
            " Minimo = 50.04 \n",
            " Rango 49.77\n"
          ]
        }
      ]
    },
    {
      "cell_type": "code",
      "source": [
        "maximo2= max(fabrica2)\n",
        "minimo2 = min(fabrica2)\n",
        "rango2 = maximo2 - minimo2\n",
        "media2 = mean(fabrica2)\n",
        "mediana2 = median(fabrica2)\n",
        "moda2 = mode(fabrica2)\n",
        "\n",
        "print(\"Estadistica descriptiva de la Fabrica 1 \\n\", \"Media =\", media2, \"\\n Mediana =\", mediana2, \"\\n Moda\", moda2, \"\\n Maximo = \", maximo2, \"\\n Minimo =\", minimo2, \"\\n Rango\", rango2)"
      ],
      "metadata": {
        "colab": {
          "base_uri": "https://localhost:8080/"
        },
        "id": "s3OWeHCIjH7g",
        "outputId": "62097525-4065-4048-98dc-ba77464a2f95"
      },
      "execution_count": null,
      "outputs": [
        {
          "output_type": "stream",
          "name": "stdout",
          "text": [
            "Estadistica descriptiva de la Fabrica 1 \n",
            " Media = 74.4584 \n",
            " Mediana = 75.745 \n",
            " Moda 93.12 \n",
            " Maximo =  99.92 \n",
            " Minimo = 50.66 \n",
            " Rango 49.260000000000005\n"
          ]
        }
      ]
    },
    {
      "cell_type": "code",
      "source": [
        "desviacion_estandar_fabrica1 = stdev(fabrica1)\n",
        "print(desviacion_estandar_fabrica1)"
      ],
      "metadata": {
        "colab": {
          "base_uri": "https://localhost:8080/"
        },
        "id": "B27luuvujrm8",
        "outputId": "2d74ea3a-cfac-461e-91a6-e87fb89ad76b"
      },
      "execution_count": null,
      "outputs": [
        {
          "output_type": "stream",
          "name": "stdout",
          "text": [
            "15.592626948385417\n"
          ]
        }
      ]
    },
    {
      "cell_type": "code",
      "source": [
        "desviacion_estandar_fabrica1 = stdev(fabrica1)\n",
        "print(desviacion_estandar_fabrica1)"
      ],
      "metadata": {
        "colab": {
          "base_uri": "https://localhost:8080/"
        },
        "id": "YxZ1WKbwlCTL",
        "outputId": "f2ee134e-a9a7-4fc5-d4ff-a17a7799ab55"
      },
      "execution_count": null,
      "outputs": [
        {
          "output_type": "stream",
          "name": "stdout",
          "text": [
            "15.592626948385417\n"
          ]
        }
      ]
    },
    {
      "cell_type": "code",
      "source": [
        "fabrica1 = []\n",
        "for i in range(100):\n",
        "  numero_aleatorio = round(random.uniform(50,100),2)\n",
        "  fabrica1.append(numero_aleatorio)\n",
        "print(fabrica1)\n",
        "\n",
        "\n",
        "for i in range(100):\n",
        "  numero_aleatorio = round(random.uniform(50,100),2)\n",
        "  fabrica2.append(numero_aleatorio)\n",
        "print(fabrica2)\n",
        "\n",
        "maximo1 = max(fabrica1)\n",
        "minimo1 = min(fabrica1)\n",
        "rango1 = maximo1 - minimo1\n",
        "media1 = mean(fabrica1)\n",
        "mediana1 = median(fabrica1)\n",
        "moda = mode(fabrica1)\n",
        "print(\"Estadistica descriptiva de la fabrica 1 \\n\",\"media =\", media1,\"\\n mediana=\",mediana1,\"\\n moda=\",moda,\"\\n maximo1=\",maximo1,\"\\n minimo1=\",minimo1,\"\\n rango1=\",rango1)\n",
        "desviacion_estandar_fabrica1 = stdev(fabrica1)\n",
        "print(\"desviacion estandar fabrica 1\", desviacion_estandar_fabrica1)\n",
        "plt.figure(figsize=(8,6))\n",
        "plt.hist(fabrica1, bins=10, alpha=0.2,color='b',edgecolor = \"black\")\n",
        "plt.axvline(media1, color='b', linestyle='dashed', linewidth=2, label=f'media{media1:.2f}')\n",
        "plt.axvline(mediana1, color='r', linestyle='dashed', linewidth=2, label=f'mediana={mediana1:.2f}')\n",
        "plt.axvline(moda, color= 'y' , linestyle='dashed', linewidth=2, label=f'moda{moda:.2f}')\n",
        "plt.axvline(media1 - desviacion_estandar_fabrica1, color='black', linestyle='dashed', linewidth=2)\n",
        "plt.axvline(media1 + desviacion_estandar_fabrica1, color='black', linestyle='dashed', linewidth=2)\n",
        "plt.xlabel('valor')\n",
        "plt.ylabel('frecuencia')\n",
        "plt.title(\"prooduccion fabrica 1\")\n",
        "plt.legend()\n",
        "plt.show()"
      ],
      "metadata": {
        "colab": {
          "base_uri": "https://localhost:8080/",
          "height": 486
        },
        "id": "BbXUevTcoG6t",
        "outputId": "a2238bdc-fb0c-4a35-c470-ca0a5656a7d5"
      },
      "execution_count": null,
      "outputs": [
        {
          "output_type": "stream",
          "name": "stdout",
          "text": [
            "[75.43, 98.09, 93.51, 56.1, 59.11, 63.0, 54.94, 92.24, 87.18, 58.8, 78.5, 64.26, 60.63, 76.13, 81.13, 62.03, 99.52, 71.82, 63.23, 70.06, 73.47, 79.32, 51.65, 84.68, 53.31, 77.11, 98.93, 74.41, 83.86, 99.49, 93.28, 93.69, 52.49, 60.58, 74.36, 85.11, 82.67, 95.14, 69.6, 62.0, 61.85, 96.18, 98.14, 53.95, 66.59, 66.15, 53.17, 69.92, 68.73, 61.0, 83.35, 53.28, 76.14, 77.05, 91.49, 97.61, 66.21, 91.03, 96.78, 62.5, 87.82, 86.13, 80.38, 73.53, 64.8, 78.04, 55.3, 57.06, 55.13, 56.99, 60.36, 96.18, 87.69, 96.15, 90.64, 57.88, 81.36, 51.2, 70.19, 67.55, 61.49, 60.47, 76.17, 57.62, 54.55, 58.03, 61.24, 55.4, 98.39, 97.93, 77.47, 89.92, 74.27, 71.49, 85.12, 91.25, 74.45, 72.87, 91.18, 52.17]\n",
            "[93.12, 84.29, 55.68, 66.79, 58.81, 54.39, 57.91, 76.71, 94.4, 77.83, 64.72, 69.45, 72.48, 76.66, 65.92, 70.84, 87.43, 58.26, 96.25, 79.16, 81.94, 83.43, 52.19, 91.03, 53.03, 87.28, 51.14, 96.87, 95.44, 62.14, 70.29, 55.15, 83.33, 78.25, 54.44, 83.74, 99.92, 69.52, 51.33, 96.54, 56.55, 83.89, 65.65, 70.94, 63.61, 74.51, 81.07, 78.89, 87.25, 53.73, 99.78, 50.66, 85.5, 79.89, 64.46, 80.04, 63.27, 82.45, 79.57, 70.42, 70.08, 51.66, 88.97, 73.82, 71.1, 87.02, 52.5, 84.14, 51.09, 72.38, 56.29, 89.46, 75.32, 62.62, 85.97, 69.13, 55.2, 88.87, 66.44, 91.43, 92.99, 74.72, 81.99, 83.52, 96.95, 76.17, 97.1, 87.44, 55.5, 57.61, 91.16, 80.34, 82.22, 81.45, 91.79, 74.82, 72.93, 76.25, 56.61, 60.56, 81.74, 71.03, 62.63, 81.67, 87.11, 77.65, 91.52, 90.4, 90.01, 79.72, 90.21, 90.27, 91.24, 87.94, 71.09, 99.63, 86.95, 77.21, 98.72, 83.93, 54.5, 70.93, 58.69, 54.48, 74.06, 68.35, 88.95, 50.81, 86.19, 82.92, 62.52, 51.25, 54.51, 80.39, 87.76, 73.74, 91.49, 82.13, 67.31, 97.57, 51.56, 84.95, 50.79, 50.74, 71.24, 60.98, 64.66, 75.78, 63.18, 69.39, 90.17, 84.11, 51.66, 87.06, 55.07, 94.31, 90.86, 56.71, 92.17, 69.45, 65.7, 69.62, 59.38, 69.71, 99.28, 73.83, 52.36, 71.15, 74.97, 80.63, 89.45, 74.15, 69.63, 99.44, 89.0, 97.85, 69.26, 98.1, 78.78, 85.78, 54.04, 75.32, 81.4, 50.48, 87.87, 69.0, 91.76, 71.94, 98.84, 63.95, 89.24, 89.75, 87.79, 84.58, 63.91, 80.89, 50.73, 99.13, 60.83, 52.26]\n",
            "Estadistica descriptiva de la fabrica 1 \n",
            " media = 74.1784 \n",
            " mediana= 73.9 \n",
            " moda= 96.18 \n",
            " maximo1= 99.52 \n",
            " minimo1= 51.2 \n",
            " rango1= 48.31999999999999\n",
            "desviacion estandar fabrica 1 14.948041033776793\n"
          ]
        },
        {
          "output_type": "display_data",
          "data": {
            "text/plain": [
              "<Figure size 800x600 with 1 Axes>"
            ],
            "image/png": "[encoded data removed]"
          },
          "metadata": {}
        }
      ]
    }
  ]
}