{
  "nbformat": 4,
  "nbformat_minor": 0,
  "metadata": {
    "colab": {
      "provenance": [],
      "authorship_tag": "ABX9TyPOKUbzK5acQCna1vhYFlmG",
      "include_colab_link": true
    },
    "kernelspec": {
      "name": "python3",
      "display_name": "Python 3"
    },
    "language_info": {
      "name": "python"
    }
  },
  "cells": [
    {
      "cell_type": "markdown",
      "metadata": {
        "id": "view-in-github",
        "colab_type": "text"
      },
      "source": [
        "<a href=\"https://colab.research.google.com/github/JuanManue1TC/probabilidad-y-estadistica/blob/main/UN2/practica1.ipynb\" target=\"_parent\"><img src=\"https://colab.research.google.com/assets/colab-badge.svg\" alt=\"Open In Colab\"/></a>"
      ]
    },
    {
      "cell_type": "markdown",
      "source": [
        "# Probabilidad y Estadística\n",
        "# Unidad 2\n",
        "# Práctica 1\n",
        "\n",
        "# Alumno: Juan Manuel Tarin Carrillo\n",
        "\n",
        "# Docente: Dr. José Gabriel Rodríguez Rivas\n",
        "\n",
        "# Ejemplo **1**"
      ],
      "metadata": {
        "id": "xxBPg6RAc_kr"
      }
    },
    {
      "cell_type": "code",
      "execution_count": null,
      "metadata": {
        "id": "qeBXZpzR3WOg"
      },
      "outputs": [],
      "source": [
        "import math as mt #Para utilizar factorial\n",
        "from itertools import combinations\n",
        "from itertools import combinations_with_replacement\n",
        "import numpy as np\n",
        "\n",
        "\n",
        "nombres  = [\"Oscar\", \"Paco\", \"Paty\", \"Laura\", \"Rubén\", \"Luis\", \"Lucy\", \"Alberto\", \"Juan\", \"Danny\"]\n",
        "n = len(nombres)\n",
        "r = 2 # ¿Como agrupar?\n",
        "Cn = mt.factorial(n) / (mt.factorial(r) * mt.factorial(n - r))\n",
        "print(\"Existen \", Cn, \" posibles combinaciones sin repetición del total  de \", n, \" nombres \", \" en grupos de\", r, \" en \", r)\n",
        "print(\"Aquií las combinaciones\")\n",
        "combinacionesNombres = list(combinations(nombres, r))\n",
        "# Imprime las combinaciones\n",
        "for combinacion in combinacionesNombres:\n",
        "    print(combinacion)"
      ]
    },
    {
      "cell_type": "markdown",
      "source": [
        "### EJEMPLO 2"
      ],
      "metadata": {
        "id": "110XLFEtceab"
      }
    },
    {
      "cell_type": "code",
      "source": [
        "caracteres = [\"A\", \"B\", \"C\", \"D\", \"E\", \"F\", \"0\", \"1\", \"2\", \"3\", \"4\", \"5\"]\n",
        "n = len(caracteres)\n",
        "r = 10 #¿Cómo agrupar?\n",
        "Cn = mt.factorial(n) / (mt.factorial(r) * mt.factorial(n - r))\n",
        "print(\"Existen \", Cn, \" posibles combinaciones sin repetición del total  de \", n, \" caracteres \", \" en grupos de\", r, \" en \", r)\n",
        "print(\"Aquií las combinaciones\")\n",
        "combinacionesCaracteres = list(combinations(caracteres, r))\n",
        "# Imprime las combinaciones\n",
        "for combinacion in combinacionesCaracteres:\n",
        "    print(combinacion)"
      ],
      "metadata": {
        "id": "aYEmJd3kcdnr"
      },
      "execution_count": null,
      "outputs": []
    },
    {
      "cell_type": "markdown",
      "source": [
        "### EJEMPLO 3"
      ],
      "metadata": {
        "id": "yrT1g0WGc18y"
      }
    },
    {
      "cell_type": "code",
      "source": [
        "dado = [1, 2, 3, 4, 5, 6]\n",
        "n = len(dado)\n",
        "r = 2 #¿Cómo agrupar?, de dos en dos porque hay dos dados\n",
        "\n",
        "CnR = mt.factorial(n + r - 1) / (mt.factorial(r) * mt.factorial((n + r - 1) - r))\n",
        "print(\"Existen \", CnR, \" posibles combinaciones con repetición del total  de \", n, \" dados \", \" en grupos de\", r, \" en \", r)\n",
        "print(\"Aquií las combinaciones con repetición de dos dados\")\n",
        "\n",
        "#Definir el conjunto de elementos\n",
        "elementos = [1, 2, 3, 4, 5, 6]\n",
        "\n",
        "#Número de elementos a elegor en cada combinación\n",
        "r = 2\n",
        "\n",
        "#Calcular las combinaciones con repetición\n",
        "combinacionesDados = list(combinations_with_replacement(dado, r))\n",
        "\n",
        "#Imprimir las combinaciones\n",
        "for combinacion in combinacionesDados:\n",
        "    print(combinacion)\n",
        ""
      ],
      "metadata": {
        "id": "gSRQpb9Rc577"
      },
      "execution_count": null,
      "outputs": []
    }
  ]
}